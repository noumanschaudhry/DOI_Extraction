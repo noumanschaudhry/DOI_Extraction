{
 "cells": [
  {
   "cell_type": "markdown",
   "metadata": {},
   "source": [
    "# This is the refined and final version in which I concatenated the modules from last post into a for loop"
   ]
  },
  {
   "cell_type": "code",
   "execution_count": 15,
   "metadata": {},
   "outputs": [],
   "source": [
    "#import the required libraries\n",
    "import numpy as np\n",
    "import cv2\n",
    "import glob\n",
    "import os\n",
    "from matplotlib import pyplot as plt\n",
    "from PIL import Image"
   ]
  },
  {
   "cell_type": "code",
   "execution_count": 16,
   "metadata": {},
   "outputs": [],
   "source": [
    "#give the in and out directories \n",
    "\n",
    "#change the input directolry to where you have all your images that you want to work on\n",
    "input_dir=\"D:\\workspace\\school\\Surrey\\pedobaro\\codebase\\Ractangle_screenshot_extraction\"\n",
    "\n",
    "#change this to where you  want to make output folder\n",
    "output_dir=\"D:\\workspace\\school\\Surrey\\pedobaro\\codebase\\Ractangle_screenshot_extraction\"\n"
   ]
  },
  {
   "cell_type": "code",
   "execution_count": 17,
   "metadata": {},
   "outputs": [
    {
     "name": "stdout",
     "output_type": "stream",
     "text": [
      "['1.jpg', '2.jpg', '3.jpg']\n"
     ]
    }
   ],
   "source": [
    "#traverse through the given directory and make a list of names with jpg extention\n",
    "\n",
    "os.chdir(output_dir)     #change dir to outpt dir and make a folder of the name cropped\n",
    "if not os.path.isdir(\"cropped\"):\n",
    "                    os.mkdir(\"cropped\")\n",
    "\n",
    "\n",
    "os.chdir(input_dir)      #change the directory to input folder and get the list of names with jpg extention\n",
    "files=glob.glob(\"*.jpg\")\n",
    "print(files)"
   ]
  },
  {
   "cell_type": "code",
   "execution_count": 18,
   "metadata": {},
   "outputs": [],
   "source": [
    "#main for loop that traverse through all the files and saves them into ouput directory\n",
    "\n",
    "for n in files:\n",
    "\n",
    "    #read the image into the envoirnment one by one code to manipulate\n",
    "    img =cv2.imread(n)\n",
    "\n",
    "    #convert the color image to greyscale for thresholding later\n",
    "    #helpfull as we need to crop color image in the end thats why instead of opeing image directly in greyscale we load in colour get contours in grey scale \n",
    "    #and then crop the color image and save back according to the contours we got\n",
    "    img_gray =cv2.cvtColor(img, cv2.COLOR_BGR2GRAY);\n",
    "    \n",
    "    \n",
    "    #binary thresholding\n",
    "    ret,thresh = cv2.threshold(img_gray,0,255,cv2.THRESH_BINARY)\n",
    "\n",
    "    #getting a list of contours using opencv find contours\n",
    "    IMAGE,contours,hierarchy = cv2.findContours(thresh, cv2.RETR_TREE,  cv2.CHAIN_APPROX_SIMPLE)\n",
    "\n",
    "    #sorts all the contours in desecnding order and get only two of the largest contours whcih are 1-whole image and 2-ROI\n",
    "    # we only take the second highest ractangle using key ContourArea and plot that.\n",
    "    cnt = sorted(contours, key = cv2.contourArea, reverse = True)[1:2]\n",
    "\n",
    "    for c in cnt:\n",
    "        x,y,w,h = cv2.boundingRect(c)\n",
    "\n",
    "\n",
    "        x2 = x+w+5    #added these 5 pixels padding to the height and width of the image\n",
    "        y2 = y+h\n",
    "\n",
    "    \n",
    "\n",
    "    #plot and check if the image has been loaded correctly\n",
    "    #plt.imshow(cv2.cvtColor(img, cv2.COLOR_BGR2RGB))\n",
    "    \n",
    "    #cropping the orignal colour image from the size of ROI we got from cv2-contours\n",
    "    cropped_img = img[y:y+h, x:x+w]\n",
    "    \n",
    "    #write the required part of image as a seprate image after the extraction \n",
    "    cv2.imwrite(output_dir+'/cropped/crp'+n,cropped_img)"
   ]
  }
 ],
 "metadata": {
  "kernelspec": {
   "display_name": "Python 3",
   "language": "python",
   "name": "python3"
  },
  "language_info": {
   "codemirror_mode": {
    "name": "ipython",
    "version": 3
   },
   "file_extension": ".py",
   "mimetype": "text/x-python",
   "name": "python",
   "nbconvert_exporter": "python",
   "pygments_lexer": "ipython3",
   "version": "3.6.4"
  }
 },
 "nbformat": 4,
 "nbformat_minor": 2
}
