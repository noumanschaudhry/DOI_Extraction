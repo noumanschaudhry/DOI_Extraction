{
 "cells": [
  {
   "cell_type": "markdown",
   "metadata": {},
   "source": [
    "# Background: we have screenshots that have a lot of unwanted/unrequired data the we want to get rid of. The data we need is basically a rectangular area with black background.\n",
    "\n",
    "## In this code we are extracting that ractangle ROI(Region of Intrest) out of the screenshots. "
   ]
  },
  {
   "cell_type": "code",
   "execution_count": 62,
   "metadata": {},
   "outputs": [],
   "source": [
    "#import the required libraries\n",
    "import numpy as np\n",
    "import cv2\n",
    "from matplotlib import pyplot as plt\n",
    "from PIL import Image"
   ]
  },
  {
   "cell_type": "code",
   "execution_count": 63,
   "metadata": {},
   "outputs": [],
   "source": [
    "#read the image into the python code to manipulate\n",
    "img =cv2.imread('1.jpg')\n",
    "\n",
    "#convert the color image to greyscale for thresholding later\n",
    "#helpfull as we need to crop color image in the end thats why instead of opeing image directly in greyscale we load in colour get contours in grey scale \n",
    "#and then crop the color image and save back according to the contours we got\n",
    "img_gray =cv2.cvtColor(img, cv2.COLOR_BGR2GRAY);"
   ]
  },
  {
   "cell_type": "code",
   "execution_count": 64,
   "metadata": {},
   "outputs": [
    {
     "data": {
      "text/plain": [
       "<matplotlib.image.AxesImage at 0x258ce124898>"
      ]
     },
     "execution_count": 64,
     "metadata": {},
     "output_type": "execute_result"
    },
    {
     "data": {
      "image/png": "[encoded data removed]",
      "text/plain": [
       "<matplotlib.figure.Figure at 0x258cf0b7c88>"
      ]
     },
     "metadata": {},
     "output_type": "display_data"
    }
   ],
   "source": [
    "#plot and check if the image has been loaded correctly\n",
    "plt.imshow(img_gray, cmap = 'gray', interpolation = 'bicubic')"
   ]
  },
  {
   "cell_type": "code",
   "execution_count": 67,
   "metadata": {},
   "outputs": [
    {
     "name": "stdout",
     "output_type": "stream",
     "text": [
      "159 100 458 266\n"
     ]
    },
    {
     "data": {
      "text/plain": [
       "True"
      ]
     },
     "execution_count": 67,
     "metadata": {},
     "output_type": "execute_result"
    },
    {
     "data": {
      "image/png": "[encoded data removed]",
      "text/plain": [
       "<matplotlib.figure.Figure at 0x258ceb89da0>"
      ]
     },
     "metadata": {},
     "output_type": "display_data"
    }
   ],
   "source": [
    "\n",
    "ret,thresh = cv2.threshold(img_gray,0,255,cv2.THRESH_BINARY)\n",
    "\n",
    "\n",
    "IMAGE,contours,hierarchy = cv2.findContours(thresh, cv2.RETR_TREE,  cv2.CHAIN_APPROX_SIMPLE)\n",
    "\n",
    "#sorts all the contours in desecnding order and get only two of the largest contours whcih are 1-whole image and 2-ROI\n",
    "# we only take the second highest ractangle using key ContourArea and plot that.\n",
    "cnt = sorted(contours, key = cv2.contourArea, reverse = True)[1:2]\n",
    "\n",
    "\n",
    "\n",
    "#loops through all the highest contours and adds rectangle around them which is then added to the image \n",
    "#in this no point of for loop as we are only getting one second highest rctangle wrt area\n",
    "\n",
    "for c in cnt:\n",
    "    x,y,w,h = cv2.boundingRect(c)\n",
    "    print(x,y,w,h)\n",
    "                \n",
    "    x2 = x+w+5    #added these 5 pixels padding to the height and width of the image\n",
    "    y2 = y+h+5\n",
    "    \n",
    "    #annotated image that has all the bounding boxes around the countour areas\n",
    "    img_ant=cv2.rectangle(img, (x-5,y-5), (x2,y2), (255,255,0), 2)   #padded 5 pixel in each x,y axis to starting point \n",
    "    \n",
    "#plot and check if the image has been loaded correctly\n",
    "plt.imshow(img_ant)\n",
    "\n",
    "#write the image back\n",
    "#cv2.imwrite('imgg.jpg',imgg)"
   ]
  },
  {
   "cell_type": "code",
   "execution_count": 244,
   "metadata": {},
   "outputs": [],
   "source": [
    "#cropping the orignal colour image from the size of ROI we got from contours\n",
    "cropped_img = img[y:y+h, x:x+w]"
   ]
  },
  {
   "cell_type": "code",
   "execution_count": 245,
   "metadata": {},
   "outputs": [
    {
     "data": {
      "text/plain": [
       "True"
      ]
     },
     "execution_count": 245,
     "metadata": {},
     "output_type": "execute_result"
    }
   ],
   "source": [
    "#write the required part of image as a seprate image after the extraction \n",
    "cv2.imwrite('cropped_img.jpg',cropped_img)"
   ]
  }
 ],
 "metadata": {
  "kernelspec": {
   "display_name": "Python 3",
   "language": "python",
   "name": "python3"
  },
  "language_info": {
   "codemirror_mode": {
    "name": "ipython",
    "version": 3
   },
   "file_extension": ".py",
   "mimetype": "text/x-python",
   "name": "python",
   "nbconvert_exporter": "python",
   "pygments_lexer": "ipython3",
   "version": "3.6.4"
  }
 },
 "nbformat": 4,
 "nbformat_minor": 2
}
